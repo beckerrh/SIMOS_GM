{
 "cells": [],
 "metadata": {
  "kernelspec": {
   "display_name": "Python 3",
   "language": "python",
   "name": "python3"
  },
  "language_info": {
   "codemirror_mode": {
    "name": "ipython",
    "version": 2
   },
   "file_extension": ".py",
   "mimetype": "text/x-python",
   "name": "python",
   "nbconvert_exporter": "python",
   "pygments_lexer": "ipython2",
   "version": "2.7.6"
  },
  "pycharm": {
   "stem_cell": {
    "cell_type": "raw",
    "source": [
     "import numpy as np\n",
     "import matplotlib.pyplot as plt\n",
     "import matplotlib.animation as animation\n",
     "%matplotlib notebook\n",
     "\n",
     "print(\"hello\")\n",
     "\n",
     "fig, (axl, axr) = plt.subplots(\n",
     "    ncols=2,\n",
     "    sharey=True,\n",
     "    figsize=(12, 6)\n",
     ")\n",
     "\n",
     "L = 22\n",
     "alpha = 0.25\n",
     "shift = np.arange(L)\n",
     "shift = np.ones(L)*alpha*L\n",
     "shift[::2] = 0\n",
     "\n",
     "axl.set_xlim([0, L])\n",
     "axl.set_ylim([0, L])\n",
     "axr.set_xlim([0, L])\n",
     "def phi(t):\n",
     "    t = t%22\n",
     "    if t <= (1-alpha)*L:\n",
     "        return t/(1-alpha), False\n",
     "    return (L - t)/alpha, True\n",
     "\n",
     "rectanglesl = axl.bar(np.arange(L) + 0.5, np.zeros(L), width=0.8, color='black')  # rectangles to animate\n",
     "rectanglesr = axr.bar(np.arange(L) + 0.5, np.ones(L)*L/2, width=0.8, color='green')  # rectangles to animate\n",
     "def init():\n",
     "    return animate(0)\n",
     "\n",
     "def animate(t):\n",
     "    for j, (rl, rr) in enumerate(zip(rectanglesl,rectanglesr)):\n",
     "        pos, dir = phi(t+shift[j])\n",
     "        rl.set_height(pos)\n",
     "        if dir:\n",
     "            rr.set_color('red')\n",
     "        else:\n",
     "            rr.set_color('green')\n",
     "    return *rectanglesl, *rectanglesr\n",
     "\n",
     "perioden = 6\n",
     "anim = animation.FuncAnimation(fig, animate, init_func=init,\n",
     "                               frames=np.linspace(0, perioden*L, 4*perioden*L), interval=20, blit=True, repeat=False)\n",
     "\n",
     "plt.show()"
    ],
    "metadata": {
     "collapsed": false
    }
   }
  }
 },
 "nbformat": 4,
 "nbformat_minor": 0
}